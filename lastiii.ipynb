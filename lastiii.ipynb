{
 "cells": [
  {
   "cell_type": "code",
   "execution_count": 1,
   "id": "6af8cc58",
   "metadata": {},
   "outputs": [],
   "source": [
    "# Import necessary libraries\n",
    "import pandas as pd\n",
    "import numpy as np\n",
    "\n"
   ]
  },
  {
   "cell_type": "code",
   "execution_count": 2,
   "id": "a40b221b",
   "metadata": {},
   "outputs": [],
   "source": [
    "# Load the Titanic dataset\n",
    "titanic = pd.read_csv(r'C:\\Users\\user\\Desktop\\titanic.csv')\n",
    "\n"
   ]
  },
  {
   "cell_type": "code",
   "execution_count": 3,
   "id": "b80c8c0b",
   "metadata": {},
   "outputs": [],
   "source": [
    "# Drop unnecessary columns\n",
    "titanic.drop(['PassengerId', 'Name', 'Ticket', 'Cabin'], axis=1, inplace=True)\n",
    "\n"
   ]
  },
  {
   "cell_type": "code",
   "execution_count": 4,
   "id": "25597dd4",
   "metadata": {},
   "outputs": [],
   "source": [
    "# Handle missing values\n",
    "titanic['Age'].fillna(titanic['Age'].median(), inplace=True)\n",
    "titanic['Embarked'].fillna(titanic['Embarked'].mode()[0], inplace=True)\n",
    "\n"
   ]
  },
  {
   "cell_type": "code",
   "execution_count": 5,
   "id": "ffc90765",
   "metadata": {},
   "outputs": [],
   "source": [
    "# Convert categorical variables to numerical\n",
    "titanic['Sex'] = np.where(titanic['Sex'] == 'female', 0, 1)\n",
    "titanic = pd.get_dummies(titanic, columns=['Embarked'])\n",
    "\n"
   ]
  },
  {
   "cell_type": "code",
   "execution_count": 6,
   "id": "89b4f64b",
   "metadata": {},
   "outputs": [],
   "source": [
    "# Split the dataset into features and target\n",
    "X = titanic.drop('Survived', axis=1)\n",
    "y = titanic['Survived']"
   ]
  },
  {
   "cell_type": "code",
   "execution_count": 7,
   "id": "d4d52475",
   "metadata": {},
   "outputs": [],
   "source": [
    "# Import necessary libraries\n",
    "from sklearn.neighbors import KNeighborsClassifier\n",
    "from sklearn.svm import SVC\n",
    "from sklearn.model_selection import cross_val_score, KFold, StratifiedKFold\n",
    "\n"
   ]
  },
  {
   "cell_type": "code",
   "execution_count": 8,
   "id": "6c3dc404",
   "metadata": {},
   "outputs": [],
   "source": [
    "# Create kNN and SVM models\n",
    "knn = KNeighborsClassifier(n_neighbors=5)\n",
    "svm = SVC(kernel='linear')\n",
    "\n"
   ]
  },
  {
   "cell_type": "code",
   "execution_count": 9,
   "id": "7a657000",
   "metadata": {},
   "outputs": [],
   "source": [
    "# Perform k-fold cross-validation\n",
    "kfold = KFold(n_splits=10)\n",
    "knn_scores = cross_val_score(knn, X, y, cv=kfold)\n",
    "svm_scores = cross_val_score(svm, X, y, cv=kfold)\n",
    "\n"
   ]
  },
  {
   "cell_type": "code",
   "execution_count": 10,
   "id": "859d27ad",
   "metadata": {},
   "outputs": [
    {
     "name": "stdout",
     "output_type": "stream",
     "text": [
      "kNN accuracy: 0.6982022471910112\n",
      "SVM accuracy: 0.786729088639201\n"
     ]
    }
   ],
   "source": [
    "# Calculate the average accuracy score\n",
    "print('kNN accuracy:', np.mean(knn_scores))\n",
    "print('SVM accuracy:', np.mean(svm_scores))\n",
    "\n"
   ]
  },
  {
   "cell_type": "code",
   "execution_count": 11,
   "id": "606f0c5b",
   "metadata": {},
   "outputs": [],
   "source": [
    "# Perform stratified k-fold cross-validation\n",
    "skfold = StratifiedKFold(n_splits=10)\n",
    "knn_scores = cross_val_score(knn, X, y, cv=skfold)\n",
    "svm_scores = cross_val_score(svm, X, y, cv=skfold)\n",
    "\n"
   ]
  },
  {
   "cell_type": "code",
   "execution_count": 12,
   "id": "1af8313e",
   "metadata": {},
   "outputs": [
    {
     "name": "stdout",
     "output_type": "stream",
     "text": [
      "kNN accuracy: 0.6948314606741574\n",
      "SVM accuracy: 0.786729088639201\n"
     ]
    }
   ],
   "source": [
    "# Calculate the average accuracy score\n",
    "print('kNN accuracy:', np.mean(knn_scores))\n",
    "print('SVM accuracy:', np.mean(svm_scores))\n"
   ]
  },
  {
   "cell_type": "code",
   "execution_count": null,
   "id": "4ff05d97",
   "metadata": {},
   "outputs": [],
   "source": []
  }
 ],
 "metadata": {
  "kernelspec": {
   "display_name": "Python 3 (ipykernel)",
   "language": "python",
   "name": "python3"
  },
  "language_info": {
   "codemirror_mode": {
    "name": "ipython",
    "version": 3
   },
   "file_extension": ".py",
   "mimetype": "text/x-python",
   "name": "python",
   "nbconvert_exporter": "python",
   "pygments_lexer": "ipython3",
   "version": "3.10.9"
  }
 },
 "nbformat": 4,
 "nbformat_minor": 5
}
